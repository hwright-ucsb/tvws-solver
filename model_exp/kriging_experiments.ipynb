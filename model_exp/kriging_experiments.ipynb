{
 "cells": [
  {
   "cell_type": "code",
   "execution_count": 1,
   "metadata": {},
   "outputs": [],
   "source": [
    "import skgstat as skg\n",
    "import itertools\n",
    "import numpy as np\n",
    "import pykrige.kriging_tools as kt\n",
    "from pykrige.rk import Krige\n",
    "from pykrige.compat import GridSearchCV\n",
    "from pykrige.ok import OrdinaryKriging\n",
    "from pykrige.uk import UniversalKriging\n",
    "import matplotlib.pyplot as plt\n",
    "from matplotlib.pyplot import figure\n",
    "from matplotlib import colors"
   ]
  },
  {
   "cell_type": "code",
   "execution_count": 2,
   "metadata": {},
   "outputs": [],
   "source": [
    "# parser function\n",
    "def parser(fname):\n",
    "    f = open(fname, \"r\")\n",
    "    readings = []\n",
    "    f.readline()\n",
    "    f.readline()\n",
    "    for line in f:\n",
    "        temp = line.strip(\"\\n\").split()\n",
    "        temp2 = [temp[0], int(temp[1]), float(temp[2]), float(temp[3]), float(temp[4]), float(temp[5]), float(temp[6])]\n",
    "        readings.append(temp2)\n",
    "    f.close()\n",
    "    return readings"
   ]
  },
  {
   "cell_type": "code",
   "execution_count": 3,
   "metadata": {},
   "outputs": [],
   "source": [
    "# parser function\n",
    "def parser_log(fname):\n",
    "    f = open(fname, \"r\")\n",
    "    readings = []\n",
    "    \n",
    "    for line in f:\n",
    "        temp = line.strip(\"\\n\").split(\",\")\n",
    "                #datetime,lat,long,alt,vel_x,vel_y,vel_z,acc_x,elevation,\n",
    "                    #source,location,vehicle,device,freq,sig_strength,sig_strength_Dbm\n",
    "        temp2 = [temp[0], float(temp[1]), float(temp[2]), float(temp[3]), float(temp[4]), float(temp[5]), float(temp[6]), temp[7], float(temp[8]),\n",
    "                    int(temp[9]), int(temp[10]), int(temp[11]), int(temp[12]), float(temp[13]), float(temp[14]), float(temp[15])]\n",
    "        readings.append(temp2)\n",
    "    f.close()\n",
    "    return readings"
   ]
  },
  {
   "cell_type": "code",
   "execution_count": 4,
   "metadata": {},
   "outputs": [],
   "source": [
    "def extract(arr, ind):\n",
    "    temp = []\n",
    "    for i in arr:\n",
    "        temp.append(i[ind])\n",
    "        \n",
    "    return temp"
   ]
  },
  {
   "cell_type": "code",
   "execution_count": 5,
   "metadata": {},
   "outputs": [],
   "source": [
    "# populate data\n",
    "\n",
    "# ID, Loop#, Timestamp, Freq, Lat, Long, RF reading\n",
    "readings = parser_log(\"../data/channel14_470mhz.log\")\n"
   ]
  },
  {
   "cell_type": "code",
   "execution_count": 6,
   "metadata": {},
   "outputs": [],
   "source": [
    "#lats = np.array(extract(readings,4))\n",
    "#long = np.array(extract(readings,5))\n",
    "#rf_freqs = np.array(extract(readings,6))\n",
    "lats = extract(readings,1)\n",
    "long = extract(readings, 2)\n",
    "alt = extract(readings, 3)\n",
    "rf_freqs = extract(readings, 15)"
   ]
  },
  {
   "cell_type": "code",
   "execution_count": 7,
   "metadata": {},
   "outputs": [],
   "source": [
    "minlat = min(lats)\n",
    "maxlat = max(lats)\n",
    "minlong = min(long)#-116.65\n",
    "maxlong = max(long)\n",
    "lat_mesh = np.arange(minlat,maxlat,abs(minlat-maxlat)/100)\n",
    "long_mesh=np.arange(minlong,maxlong,abs(minlong-maxlong)/100)"
   ]
  },
  {
   "cell_type": "code",
   "execution_count": 8,
   "metadata": {},
   "outputs": [
    {
     "data": {
      "text/plain": [
       "100"
      ]
     },
     "execution_count": 8,
     "metadata": {},
     "output_type": "execute_result"
    }
   ],
   "source": [
    "len(long_mesh)"
   ]
  },
  {
   "cell_type": "code",
   "execution_count": 13,
   "metadata": {},
   "outputs": [
    {
     "name": "stdout",
     "output_type": "stream",
     "text": [
      "Plotting Enabled\n",
      "\n",
      "Initializing variogram model...\n",
      "Coordinates type: 'geographic' \n",
      "\n",
      "Using 'exponential' Variogram Model\n",
      "Partial Sill: 2.9151898999436163\n",
      "Full Sill: 8.320327082028694\n",
      "Range: 4.9430680119241896e-05\n",
      "Nugget: 5.4051371820850775 \n",
      "\n"
     ]
    },
    {
     "data": {
      "image/png": "[encoded data removed]",
      "text/plain": [
       "<Figure size 432x288 with 1 Axes>"
      ]
     },
     "metadata": {
      "needs_background": "light"
     },
     "output_type": "display_data"
    },
    {
     "name": "stdout",
     "output_type": "stream",
     "text": [
      "Calculating statistics on variogram model fit...\n",
      "Executing Ordinary Kriging...\n",
      "\n"
     ]
    }
   ],
   "source": [
    "# Create the ordinary kriging object. Required inputs are the X-coordinates of\n",
    "# the data points, the Y-coordinates of the data points, and the Z-values of the\n",
    "# data points. If no variogram model is specified, defaults to a linear variogram\n",
    "# model. If no variogram model parameters are specified, then the code automatically\n",
    "# calculates the parameters by fitting the variogram model to the binned\n",
    "# experimental semivariogram. The verbose kwarg controls code talk-back, and\n",
    "# the enable_plotting kwarg controls the display of the semivariogram.\n",
    "\n",
    "#example:\n",
    "# OK = OrdinaryKriging(data[:, 0], data[:, 1], data[:, 2], \n",
    "            #variogram_model='linear', verbose=False, enable_plotting=False)\n",
    "\n",
    "OK = OrdinaryKriging(lats, long, rf_freqs, variogram_model='exponential',\n",
    "                     verbose=True, enable_plotting=True, coordinates_type='geographic')\n",
    "z, ss = OK.execute('grid', lat_mesh, long_mesh)"
   ]
  },
  {
   "cell_type": "markdown",
   "metadata": {},
   "source": [
    "#### universal kriging"
   ]
  },
  {
   "cell_type": "code",
   "execution_count": 12,
   "metadata": {},
   "outputs": [
    {
     "name": "stdout",
     "output_type": "stream",
     "text": [
      "Plotting Enabled\n",
      "\n",
      "Adjusting data for anisotropy...\n",
      "Initializing variogram model...\n",
      "Using 'exponential' Variogram Model\n",
      "Partial Sill: 2.715789343662278\n",
      "Full Sill: 8.360513083482374\n",
      "Range: 4.775638192815483e-07\n",
      "Nugget: 5.644723739820095 \n",
      "\n"
     ]
    },
    {
     "data": {
      "image/png": "[encoded data removed]",
      "text/plain": [
       "<Figure size 432x288 with 1 Axes>"
      ]
     },
     "metadata": {
      "needs_background": "light"
     },
     "output_type": "display_data"
    },
    {
     "name": "stdout",
     "output_type": "stream",
     "text": [
      "Calculating statistics on variogram model fit...\n",
      "Q1 = 0.4881791108207835\n",
      "Q2 = 0.8831187753601052\n",
      "cR = 7.402419564006663 \n",
      "\n",
      "Initializing drift terms...\n",
      "Executing Universal Kriging...\n",
      "\n"
     ]
    }
   ],
   "source": [
    "UK = UniversalKriging(lats, long, rf_freqs, variogram_model='exponential',\n",
    "                     verbose=True, enable_plotting=True)\n",
    "zo, sso = UK.execute('grid', lat_mesh, long_mesh)"
   ]
  },
  {
   "cell_type": "code",
   "execution_count": 14,
   "metadata": {},
   "outputs": [],
   "source": [
    "minn = 0\n",
    "maxx = -1000\n",
    "for i in zo:\n",
    "    tmpmin=min(i.data)\n",
    "    if tmpmin < minn:\n",
    "        minn=tmpmin\n",
    "    tmpmax = max(i.data)\n",
    "    if tmpmax > maxx:\n",
    "        maxx=tmpmax"
   ]
  },
  {
   "cell_type": "code",
   "execution_count": 15,
   "metadata": {},
   "outputs": [
    {
     "data": {
      "text/plain": [
       "100"
      ]
     },
     "execution_count": 15,
     "metadata": {},
     "output_type": "execute_result"
    }
   ],
   "source": [
    "len(z)"
   ]
  },
  {
   "cell_type": "code",
   "execution_count": 16,
   "metadata": {},
   "outputs": [
    {
     "name": "stdout",
     "output_type": "stream",
     "text": [
      "-65.70059027947799\n",
      "-65.70058812321628\n",
      "-86.7624022665\n",
      "-59.068270098\n"
     ]
    }
   ],
   "source": [
    "print(minn)\n",
    "print(maxx)\n",
    "print(min(rf_freqs))\n",
    "print(max(rf_freqs))"
   ]
  },
  {
   "cell_type": "code",
   "execution_count": 44,
   "metadata": {},
   "outputs": [],
   "source": [
    "ls = [-125.995354, -109.74596445615346, -105.88484194949307 -90.233002]"
   ]
  },
  {
   "cell_type": "code",
   "execution_count": 124,
   "metadata": {},
   "outputs": [
    {
     "data": {
      "text/plain": [
       "(-116.65, -116.63458025694369)"
      ]
     },
     "execution_count": 124,
     "metadata": {},
     "output_type": "execute_result"
    },
    {
     "data": {
      "image/png": "[encoded data removed]",
      "text/plain": [
       "<Figure size 720x720 with 1 Axes>"
      ]
     },
     "metadata": {
      "needs_background": "light"
     },
     "output_type": "display_data"
    }
   ],
   "source": [
    "figdata = plt.figure(figsize=(10,10))  # create a figure object\n",
    "ax = figdata.add_subplot(1, 1, 1)  # create an axes object in the figure\n",
    "#ax.contour(lat_mesh, long_mesh, z.data, 10)\n",
    "ax.scatter(lats,long, s=1, color=\"red\")\n",
    "plt.xlim(minlat, maxlat)\n",
    "plt.ylim(-116.65, maxlong)\n",
    "#figdata.savefig('test1.png', dpi=300)"
   ]
  },
  {
   "cell_type": "code",
   "execution_count": 10,
   "metadata": {},
   "outputs": [],
   "source": [
    "# Writes the kriged grid to an ASCII grid file.\n",
    "kt.write_asc_grid(lat_mesh, long_mesh, z, filename=\"output.asc\")\n",
    "\n"
   ]
  },
  {
   "cell_type": "code",
   "execution_count": 43,
   "metadata": {},
   "outputs": [],
   "source": [
    "interval=(minn-maxx)/5\n",
    "ls=[minn,minn+interval,minn+2*interval,minn+3*interval,minn+4*interval,minn+5*interval]"
   ]
  },
  {
   "cell_type": "code",
   "execution_count": 18,
   "metadata": {},
   "outputs": [
    {
     "data": {
      "text/plain": [
       "<matplotlib.contour.QuadContourSet at 0x103d18780>"
      ]
     },
     "execution_count": 18,
     "metadata": {},
     "output_type": "execute_result"
    },
    {
     "data": {
      "image/png": "[encoded data removed]",
      "text/plain": [
       "<Figure size 720x720 with 1 Axes>"
      ]
     },
     "metadata": {
      "needs_background": "light"
     },
     "output_type": "display_data"
    }
   ],
   "source": [
    "figdata0 = plt.figure(figsize=(10,10))  # create a figure object\n",
    "ax0 = figdata0.add_subplot(1, 1, 1)\n",
    "ax0.contour(z.data, levels=15)"
   ]
  },
  {
   "cell_type": "code",
   "execution_count": 127,
   "metadata": {},
   "outputs": [
    {
     "data": {
      "text/plain": [
       "<matplotlib.collections.PathCollection at 0x133f9b860>"
      ]
     },
     "execution_count": 127,
     "metadata": {},
     "output_type": "execute_result"
    },
    {
     "data": {
      "image/png": "[encoded data removed]",
      "text/plain": [
       "<Figure size 720x720 with 1 Axes>"
      ]
     },
     "metadata": {
      "needs_background": "light"
     },
     "output_type": "display_data"
    }
   ],
   "source": [
    "figdata1 = plt.figure(figsize=(10,10))  # create a figure object\n",
    "ax1 = figdata1.add_subplot(1, 1, 1)\n",
    "ax1.contourf(lat_mesh,long_mesh,z, levels=15, cmap='gray')\n",
    "ax1.scatter(lats,long, s=1, color=\"red\")\n",
    "\n"
   ]
  },
  {
   "cell_type": "code",
   "execution_count": 23,
   "metadata": {},
   "outputs": [
    {
     "ename": "NameError",
     "evalue": "name 'mcolors' is not defined",
     "output_type": "error",
     "traceback": [
      "\u001b[0;31m---------------------------------------------------------------------------\u001b[0m",
      "\u001b[0;31mNameError\u001b[0m                                 Traceback (most recent call last)",
      "\u001b[0;32m<ipython-input-23-668629d671b7>\u001b[0m in \u001b[0;36m<module>\u001b[0;34m\u001b[0m\n\u001b[1;32m      2\u001b[0m \u001b[0mzmax\u001b[0m \u001b[0;34m=\u001b[0m \u001b[0mnp\u001b[0m\u001b[0;34m.\u001b[0m\u001b[0mamax\u001b[0m\u001b[0;34m(\u001b[0m\u001b[0mz\u001b[0m\u001b[0;34m.\u001b[0m\u001b[0mdata\u001b[0m\u001b[0;34m)\u001b[0m\u001b[0;34m\u001b[0m\u001b[0m\n\u001b[1;32m      3\u001b[0m \u001b[0;34m\u001b[0m\u001b[0m\n\u001b[0;32m----> 4\u001b[0;31m \u001b[0mplt\u001b[0m\u001b[0;34m.\u001b[0m\u001b[0mimshow\u001b[0m\u001b[0;34m(\u001b[0m\u001b[0mz\u001b[0m\u001b[0;34m.\u001b[0m\u001b[0mdata\u001b[0m\u001b[0;34m,\u001b[0m \u001b[0mcmap\u001b[0m\u001b[0;34m=\u001b[0m\u001b[0;34m'hot'\u001b[0m\u001b[0;34m,\u001b[0m \u001b[0minterpolation\u001b[0m\u001b[0;34m=\u001b[0m\u001b[0;34m'nearest'\u001b[0m\u001b[0;34m,\u001b[0m \u001b[0mnorm\u001b[0m\u001b[0;34m=\u001b[0m\u001b[0mmcolors\u001b[0m\u001b[0;34m.\u001b[0m\u001b[0mNormalize\u001b[0m\u001b[0;34m)\u001b[0m \u001b[0;31m#vmax=zmax, vmin=zmin)\u001b[0m\u001b[0;34m\u001b[0m\u001b[0m\n\u001b[0m\u001b[1;32m      5\u001b[0m \u001b[0mplt\u001b[0m\u001b[0;34m.\u001b[0m\u001b[0mshow\u001b[0m\u001b[0;34m(\u001b[0m\u001b[0;34m)\u001b[0m\u001b[0;34m\u001b[0m\u001b[0m\n",
      "\u001b[0;31mNameError\u001b[0m: name 'mcolors' is not defined"
     ]
    }
   ],
   "source": [
    "zmin = np.amin(z.data)\n",
    "zmax = np.amax(z.data)\n",
    "\n",
    "plt.imshow(z.data, cmap='hot', interpolation='nearest', norm=mcolors.Normalize) #vmax=zmax, vmin=zmin)\n",
    "plt.show()"
   ]
  },
  {
   "cell_type": "code",
   "execution_count": 101,
   "metadata": {},
   "outputs": [],
   "source": [
    "coords = np.array(list(zip(lats, long)))"
   ]
  },
  {
   "cell_type": "code",
   "execution_count": 103,
   "metadata": {},
   "outputs": [
    {
     "data": {
      "text/plain": [
       "(1081, 2)"
      ]
     },
     "execution_count": 103,
     "metadata": {},
     "output_type": "execute_result"
    }
   ],
   "source": [
    "np.shape(coords)"
   ]
  },
  {
   "cell_type": "code",
   "execution_count": 104,
   "metadata": {},
   "outputs": [
    {
     "name": "stdout",
     "output_type": "stream",
     "text": [
      "Fitting 3 folds for each of 8 candidates, totalling 24 fits\n"
     ]
    },
    {
     "name": "stderr",
     "output_type": "stream",
     "text": [
      "[Parallel(n_jobs=1)]: Using backend SequentialBackend with 1 concurrent workers.\n"
     ]
    },
    {
     "name": "stdout",
     "output_type": "stream",
     "text": [
      "n_closest_points will be ignored for UniversalKriging\n",
      "n_closest_points will be ignored for UniversalKriging\n",
      "n_closest_points will be ignored for UniversalKriging\n",
      "n_closest_points will be ignored for UniversalKriging\n",
      "n_closest_points will be ignored for UniversalKriging\n",
      "n_closest_points will be ignored for UniversalKriging\n",
      "n_closest_points will be ignored for UniversalKriging\n",
      "n_closest_points will be ignored for UniversalKriging\n",
      "n_closest_points will be ignored for UniversalKriging\n",
      "n_closest_points will be ignored for UniversalKriging\n",
      "n_closest_points will be ignored for UniversalKriging\n",
      "n_closest_points will be ignored for UniversalKriging\n",
      "n_closest_points will be ignored for UniversalKriging\n",
      "n_closest_points will be ignored for UniversalKriging\n",
      "n_closest_points will be ignored for UniversalKriging\n",
      "n_closest_points will be ignored for UniversalKriging\n",
      "n_closest_points will be ignored for UniversalKriging\n",
      "n_closest_points will be ignored for UniversalKriging\n",
      "n_closest_points will be ignored for UniversalKriging\n",
      "n_closest_points will be ignored for UniversalKriging\n",
      "n_closest_points will be ignored for UniversalKriging\n",
      "n_closest_points will be ignored for UniversalKriging\n",
      "n_closest_points will be ignored for UniversalKriging\n",
      "n_closest_points will be ignored for UniversalKriging\n"
     ]
    },
    {
     "name": "stderr",
     "output_type": "stream",
     "text": [
      "[Parallel(n_jobs=1)]: Done  24 out of  24 | elapsed:  1.1min finished\n",
      "/usr/local/lib/python3.7/site-packages/sklearn/model_selection/_search.py:841: DeprecationWarning: The default of the `iid` parameter will change from True to False in version 0.22 and will be removed in 0.24. This will change numeric results when test-set sizes are unequal.\n",
      "  DeprecationWarning)\n",
      "/usr/local/lib/python3.7/site-packages/sklearn/utils/deprecation.py:125: FutureWarning: You are accessing a training score ('mean_train_score'), which will not be available by default any more in 0.21. If you need training scores, please set return_train_score=True\n",
      "  warnings.warn(*warn_args, **warn_kwargs)\n",
      "/usr/local/lib/python3.7/site-packages/sklearn/model_selection/_split.py:2053: FutureWarning: You should specify a value for 'cv' instead of relying on the default value. The default value will change from 3 to 5 in version 0.22.\n",
      "  warnings.warn(CV_WARNING, FutureWarning)\n",
      "[Parallel(n_jobs=1)]: Using backend SequentialBackend with 1 concurrent workers.\n"
     ]
    },
    {
     "name": "stdout",
     "output_type": "stream",
     "text": [
      "best_score R² = -0.202\n",
      "best_params =  {'method': 'ordinary', 'variogram_model': 'power'}\n",
      "\n",
      "CV results::\n",
      " - mean_test_score : [ -0.24086266  -0.20158619  -0.30874653  -0.26439785  -0.58563036\n",
      " -36.33437955  -0.47625247  -0.31847317]\n",
      " - mean_train_score : [   0.92451751    0.92451741    0.92451766    0.92451921  -72.81001778\n",
      " -393.20676377  -11.64799352   -8.02203668]\n",
      " - param_method : ['ordinary' 'ordinary' 'ordinary' 'ordinary' 'universal' 'universal'\n",
      " 'universal' 'universal']\n",
      " - param_variogram_model : ['linear' 'power' 'gaussian' 'spherical' 'linear' 'power' 'gaussian'\n",
      " 'spherical']\n",
      "Fitting 3 folds for each of 8 candidates, totalling 24 fits\n",
      "n_closest_points will be ignored for UniversalKriging\n",
      "n_closest_points will be ignored for UniversalKriging\n",
      "n_closest_points will be ignored for UniversalKriging\n",
      "n_closest_points will be ignored for UniversalKriging\n",
      "n_closest_points will be ignored for UniversalKriging\n",
      "n_closest_points will be ignored for UniversalKriging\n",
      "n_closest_points will be ignored for UniversalKriging\n",
      "n_closest_points will be ignored for UniversalKriging\n",
      "n_closest_points will be ignored for UniversalKriging\n",
      "n_closest_points will be ignored for UniversalKriging\n",
      "n_closest_points will be ignored for UniversalKriging\n",
      "n_closest_points will be ignored for UniversalKriging\n",
      "n_closest_points will be ignored for UniversalKriging\n",
      "n_closest_points will be ignored for UniversalKriging\n",
      "n_closest_points will be ignored for UniversalKriging\n",
      "n_closest_points will be ignored for UniversalKriging\n",
      "n_closest_points will be ignored for UniversalKriging\n",
      "n_closest_points will be ignored for UniversalKriging\n",
      "n_closest_points will be ignored for UniversalKriging\n",
      "n_closest_points will be ignored for UniversalKriging\n",
      "n_closest_points will be ignored for UniversalKriging\n",
      "n_closest_points will be ignored for UniversalKriging\n",
      "n_closest_points will be ignored for UniversalKriging\n",
      "n_closest_points will be ignored for UniversalKriging\n",
      "best_score R² = -0.006\n",
      "best_params =  {'method': 'universal3d', 'variogram_model': 'power'}\n",
      "\n",
      "CV results::\n",
      " - mean_test_score : [-0.07292547 -0.07292547 -0.26470276 -0.10774991 -0.00586271 -0.00586271\n",
      " -0.22256639 -0.04632271]\n",
      " - mean_train_score : [1. 1. 1. 1. 1. 1. 1. 1.]\n",
      " - param_method : ['ordinary3d' 'ordinary3d' 'ordinary3d' 'ordinary3d' 'universal3d'\n",
      " 'universal3d' 'universal3d' 'universal3d']\n",
      " - param_variogram_model : ['linear' 'power' 'gaussian' 'spherical' 'linear' 'power' 'gaussian'\n",
      " 'spherical']\n"
     ]
    },
    {
     "name": "stderr",
     "output_type": "stream",
     "text": [
      "[Parallel(n_jobs=1)]: Done  24 out of  24 | elapsed:    1.0s finished\n",
      "/usr/local/lib/python3.7/site-packages/sklearn/model_selection/_search.py:841: DeprecationWarning: The default of the `iid` parameter will change from True to False in version 0.22 and will be removed in 0.24. This will change numeric results when test-set sizes are unequal.\n",
      "  DeprecationWarning)\n",
      "/usr/local/lib/python3.7/site-packages/sklearn/utils/deprecation.py:125: FutureWarning: You are accessing a training score ('mean_train_score'), which will not be available by default any more in 0.21. If you need training scores, please set return_train_score=True\n",
      "  warnings.warn(*warn_args, **warn_kwargs)\n"
     ]
    }
   ],
   "source": [
    "# 2D Kring param opt\n",
    "\n",
    "param_dict = {\"method\": [\"ordinary\", \"universal\"],\n",
    "              \"variogram_model\": [\"linear\", \"power\", \"gaussian\", \"spherical\"],\n",
    "              # \"nlags\": [4, 6, 8],\n",
    "              # \"weight\": [True, False]\n",
    "              }\n",
    "\n",
    "estimator = GridSearchCV(Krige(), param_dict, verbose=True)\n",
    "\n",
    "# dummy data\n",
    "X = np.random.randint(0, 400, size=(100, 2)).astype(float)\n",
    "y = 5 * np.random.rand(100)\n",
    "\n",
    "# run the gridsearch\n",
    "estimator.fit(X=coords, y=np.array(rf_freqs))\n",
    "\n",
    "\n",
    "if hasattr(estimator, 'best_score_'):\n",
    "    print('best_score R² = {:.3f}'.format(estimator.best_score_))\n",
    "    print('best_params = ', estimator.best_params_)\n",
    "\n",
    "print('\\nCV results::')\n",
    "if hasattr(estimator, 'cv_results_'):\n",
    "    for key in ['mean_test_score', 'mean_train_score',\n",
    "                'param_method', 'param_variogram_model']:\n",
    "        print(' - {} : {}'.format(key, estimator.cv_results_[key]))\n",
    "\n",
    "# 3D Kring param opt\n",
    "\n",
    "param_dict3d = {\"method\": [\"ordinary3d\", \"universal3d\"],\n",
    "              \"variogram_model\": [\"linear\", \"power\", \"gaussian\", \"spherical\"],\n",
    "              # \"nlags\": [4, 6, 8],\n",
    "              # \"weight\": [True, False]\n",
    "              }\n",
    "\n",
    "estimator = GridSearchCV(Krige(), param_dict3d, verbose=True)\n",
    "\n",
    "# dummy data\n",
    "X3 = np.random.randint(0, 400, size=(100, 3)).astype(float)\n",
    "y = 5 * np.random.rand(100)\n",
    "\n",
    "# run the gridsearch\n",
    "estimator.fit(X=X3, y=y)\n",
    "\n",
    "\n",
    "if hasattr(estimator, 'best_score_'):\n",
    "    print('best_score R² = {:.3f}'.format(estimator.best_score_))\n",
    "    print('best_params = ', estimator.best_params_)\n",
    "\n",
    "print('\\nCV results::')\n",
    "if hasattr(estimator, 'cv_results_'):\n",
    "    for key in ['mean_test_score', 'mean_train_score',\n",
    "                'param_method', 'param_variogram_model']:\n",
    "        print(' - {} : {}'.format(key, estimator.cv_results_[key]))"
   ]
  },
  {
   "cell_type": "markdown",
   "metadata": {},
   "source": [
    "# empirical cdf"
   ]
  },
  {
   "cell_type": "code",
   "execution_count": 22,
   "metadata": {},
   "outputs": [
    {
     "name": "stderr",
     "output_type": "stream",
     "text": [
      "/usr/local/lib/python3.7/site-packages/ipykernel_launcher.py:2: DeprecationWarning: Passing normed=False is deprecated, and has no effect. Consider passing the density argument instead.\n",
      "  \n"
     ]
    },
    {
     "data": {
      "text/plain": [
       "[<matplotlib.lines.Line2D at 0x1050670f0>]"
      ]
     },
     "execution_count": 22,
     "metadata": {},
     "output_type": "execute_result"
    },
    {
     "data": {
      "image/png": "[encoded data removed]",
      "text/plain": [
       "<Figure size 432x288 with 1 Axes>"
      ]
     },
     "metadata": {
      "needs_background": "light"
     },
     "output_type": "display_data"
    }
   ],
   "source": [
    "num_bins = 30\n",
    "counts, bin_edges = np.histogram (rf_freqs, bins=num_bins, normed=False)\n",
    "cdf = np.cumsum (counts)\n",
    "plt.plot (bin_edges[1:], cdf/cdf[-1])"
   ]
  },
  {
   "cell_type": "code",
   "execution_count": 23,
   "metadata": {},
   "outputs": [
    {
     "name": "stdout",
     "output_type": "stream",
     "text": [
      "50%% percentile: -65.569461316\n",
      "90%% percentile: -62.786619852\n",
      "95%% percentile: -61.995500446\n",
      "100%% percentile: -59.068270098\n"
     ]
    }
   ],
   "source": [
    "for q in [50, 90, 95, 100]:\n",
    "  print (\"{}%% percentile: {}\".format (q, np.percentile(rf_freqs, q)))"
   ]
  },
  {
   "cell_type": "code",
   "execution_count": null,
   "metadata": {},
   "outputs": [],
   "source": []
  }
 ],
 "metadata": {
  "kernelspec": {
   "display_name": "Python 3",
   "language": "python",
   "name": "python3"
  },
  "language_info": {
   "codemirror_mode": {
    "name": "ipython",
    "version": 3
   },
   "file_extension": ".py",
   "mimetype": "text/x-python",
   "name": "python",
   "nbconvert_exporter": "python",
   "pygments_lexer": "ipython3",
   "version": "3.7.0"
  }
 },
 "nbformat": 4,
 "nbformat_minor": 2
}
