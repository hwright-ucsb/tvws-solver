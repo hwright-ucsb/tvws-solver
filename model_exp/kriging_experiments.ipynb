{
 "cells": [
  {
   "cell_type": "code",
   "execution_count": 59,
   "metadata": {},
   "outputs": [],
   "source": [
    "import skgstat as skg\n",
    "import numpy as np\n",
    "import pykrige.kriging_tools as kt\n",
    "from pykrige.rk import Krige\n",
    "from pykrige.compat import GridSearchCV\n",
    "from pykrige.ok import OrdinaryKriging\n",
    "import matplotlib.pyplot as plt\n",
    "from matplotlib.pyplot import figure"
   ]
  },
  {
   "cell_type": "code",
   "execution_count": 11,
   "metadata": {},
   "outputs": [],
   "source": [
    "# parser function\n",
    "def parser(fname):\n",
    "    f = open(fname, \"r\")\n",
    "    readings = []\n",
    "    f.readline()\n",
    "    f.readline()\n",
    "    for line in f:\n",
    "        temp = line.strip(\"\\n\").split()\n",
    "        temp2 = [temp[0], int(temp[1]), float(temp[2]), float(temp[3]), float(temp[4]), float(temp[5]), float(temp[6])]\n",
    "        readings.append(temp2)\n",
    "    f.close()\n",
    "    return readings"
   ]
  },
  {
   "cell_type": "code",
   "execution_count": 17,
   "metadata": {},
   "outputs": [],
   "source": [
    "def extract(arr, ind):\n",
    "    temp = []\n",
    "    for i in arr:\n",
    "        temp.append(i[ind])\n",
    "        \n",
    "    return temp"
   ]
  },
  {
   "cell_type": "code",
   "execution_count": 4,
   "metadata": {},
   "outputs": [],
   "source": [
    "# populate data\n",
    "\n",
    "# ID, Loop#, Timestamp, Freq, Lat, Long, RF reading\n",
    "readings = parser(\"../data/data_testfile.txt\")\n"
   ]
  },
  {
   "cell_type": "code",
   "execution_count": 41,
   "metadata": {},
   "outputs": [],
   "source": [
    "lats = np.array(extract(readings,4))\n",
    "long = np.array(extract(readings,5))\n",
    "rf_freqs = np.array(extract(readings,6))"
   ]
  },
  {
   "cell_type": "code",
   "execution_count": 45,
   "metadata": {},
   "outputs": [],
   "source": [
    "minlat = min(lats)\n",
    "maxlat = max(lats)\n",
    "minlong = min(long)\n",
    "maxlong = max(long)\n",
    "lat_mesh = np.arange(minlat,maxlat,abs(minlat-maxlat)/500)\n",
    "long_mesh=np.arange(minlong,maxlong,abs(minlong-maxlong)/500)"
   ]
  },
  {
   "cell_type": "code",
   "execution_count": 46,
   "metadata": {},
   "outputs": [
    {
     "data": {
      "text/plain": [
       "(500,)"
      ]
     },
     "execution_count": 46,
     "metadata": {},
     "output_type": "execute_result"
    }
   ],
   "source": [
    "long_mesh.shape"
   ]
  },
  {
   "cell_type": "code",
   "execution_count": 54,
   "metadata": {},
   "outputs": [
    {
     "data": {
      "text/plain": [
       "<matplotlib.collections.PathCollection at 0x1345d6f60>"
      ]
     },
     "execution_count": 54,
     "metadata": {},
     "output_type": "execute_result"
    },
    {
     "data": {
      "image/png": "[encoded data removed]",
      "text/plain": [
       "<Figure size 432x288 with 1 Axes>"
      ]
     },
     "metadata": {
      "needs_background": "light"
     },
     "output_type": "display_data"
    }
   ],
   "source": [
    "plt.scatter(lats,long)"
   ]
  },
  {
   "cell_type": "code",
   "execution_count": 47,
   "metadata": {},
   "outputs": [
    {
     "data": {
      "image/png": "[encoded data removed]",
      "text/plain": [
       "<Figure size 432x288 with 1 Axes>"
      ]
     },
     "metadata": {
      "needs_background": "light"
     },
     "output_type": "display_data"
    }
   ],
   "source": [
    "# Create the ordinary kriging object. Required inputs are the X-coordinates of\n",
    "# the data points, the Y-coordinates of the data points, and the Z-values of the\n",
    "# data points. If no variogram model is specified, defaults to a linear variogram\n",
    "# model. If no variogram model parameters are specified, then the code automatically\n",
    "# calculates the parameters by fitting the variogram model to the binned\n",
    "# experimental semivariogram. The verbose kwarg controls code talk-back, and\n",
    "# the enable_plotting kwarg controls the display of the semivariogram.\n",
    "\n",
    "#example:\n",
    "# OK = OrdinaryKriging(data[:, 0], data[:, 1], data[:, 2], \n",
    "            #variogram_model='linear', verbose=False, enable_plotting=False)\n",
    "\n",
    "OK = OrdinaryKriging(lats, long, rf_freqs, variogram_model='exponential',\n",
    "                     verbose=False, enable_plotting=True)\n",
    "z, ss = OK.execute('grid', lat_mesh, long_mesh)"
   ]
  },
  {
   "cell_type": "code",
   "execution_count": 48,
   "metadata": {},
   "outputs": [],
   "source": [
    "# Writes the kriged grid to an ASCII grid file.\n",
    "kt.write_asc_grid(lat_mesh, long_mesh, z, filename=\"output.asc\")\n",
    "\n"
   ]
  },
  {
   "cell_type": "code",
   "execution_count": 61,
   "metadata": {},
   "outputs": [
    {
     "ename": "AttributeError",
     "evalue": "'QuadContourSet' object has no attribute 'set_size_inches'",
     "output_type": "error",
     "traceback": [
      "\u001b[0;31m---------------------------------------------------------------------------\u001b[0m",
      "\u001b[0;31mAttributeError\u001b[0m                            Traceback (most recent call last)",
      "\u001b[0;32m<ipython-input-61-f054776e69ad>\u001b[0m in \u001b[0;36m<module>\u001b[0;34m\u001b[0m\n\u001b[1;32m      1\u001b[0m \u001b[0mcplot\u001b[0m \u001b[0;34m=\u001b[0m \u001b[0mplt\u001b[0m\u001b[0;34m.\u001b[0m\u001b[0mcontour\u001b[0m\u001b[0;34m(\u001b[0m\u001b[0mz\u001b[0m\u001b[0;34m)\u001b[0m\u001b[0;34m\u001b[0m\u001b[0m\n\u001b[0;32m----> 2\u001b[0;31m \u001b[0mcplot\u001b[0m\u001b[0;34m.\u001b[0m\u001b[0mset_size_inches\u001b[0m\u001b[0;34m(\u001b[0m\u001b[0;36m8\u001b[0m\u001b[0;34m,\u001b[0m\u001b[0;36m8\u001b[0m\u001b[0;34m)\u001b[0m\u001b[0;34m\u001b[0m\u001b[0m\n\u001b[0m",
      "\u001b[0;31mAttributeError\u001b[0m: 'QuadContourSet' object has no attribute 'set_size_inches'"
     ]
    },
    {
     "data": {
      "image/png": "[encoded data removed]",
      "text/plain": [
       "<Figure size 432x288 with 1 Axes>"
      ]
     },
     "metadata": {
      "needs_background": "light"
     },
     "output_type": "display_data"
    }
   ],
   "source": [
    "cplot = plt.contour(z)\n",
    "cplot.set_size_inches(8,8)\n"
   ]
  },
  {
   "cell_type": "code",
   "execution_count": 55,
   "metadata": {},
   "outputs": [
    {
     "data": {
      "text/plain": [
       "masked_array(\n",
       "  data=[[-107.94556835070247, -107.94556835116205, -107.9455683522406,\n",
       "         ..., -107.94556835036109, -107.94556835036109,\n",
       "         -107.94556835036109],\n",
       "        [-107.94556835065937, -107.94556835105692, -107.94556835198334,\n",
       "         ..., -107.94556835036109, -107.94556835036109,\n",
       "         -107.94556835036109],\n",
       "        [-107.94556835056126, -107.94556835082032, -107.94556835141222,\n",
       "         ..., -107.94556835036109, -107.94556835036109,\n",
       "         -107.94556835036109],\n",
       "        ...,\n",
       "        [-108.20284760244444, -108.17946614084677, -108.11005765619593,\n",
       "         ..., -107.94556835036109, -107.94556835036109,\n",
       "         -107.94556835036109],\n",
       "        [-108.59486404527867, -108.44634135610416, -108.1929289826498,\n",
       "         ..., -107.94556835036109, -107.94556835036109,\n",
       "         -107.94556835036109],\n",
       "        [-108.42295333884574, -108.43450021194776, -108.1987502329384,\n",
       "         ..., -107.94556835036109, -107.94556835036109,\n",
       "         -107.94556835036109]],\n",
       "  mask=[[False, False, False, ..., False, False, False],\n",
       "        [False, False, False, ..., False, False, False],\n",
       "        [False, False, False, ..., False, False, False],\n",
       "        ...,\n",
       "        [False, False, False, ..., False, False, False],\n",
       "        [False, False, False, ..., False, False, False],\n",
       "        [False, False, False, ..., False, False, False]],\n",
       "  fill_value=1e+20)"
      ]
     },
     "execution_count": 55,
     "metadata": {},
     "output_type": "execute_result"
    }
   ],
   "source": [
    "z\n"
   ]
  },
  {
   "cell_type": "code",
   "execution_count": 12,
   "metadata": {},
   "outputs": [
    {
     "name": "stderr",
     "output_type": "stream",
     "text": [
      "/usr/local/lib/python3.7/site-packages/sklearn/model_selection/_split.py:2053: FutureWarning: You should specify a value for 'cv' instead of relying on the default value. The default value will change from 3 to 5 in version 0.22.\n",
      "  warnings.warn(CV_WARNING, FutureWarning)\n",
      "[Parallel(n_jobs=1)]: Using backend SequentialBackend with 1 concurrent workers.\n"
     ]
    },
    {
     "name": "stdout",
     "output_type": "stream",
     "text": [
      "Fitting 3 folds for each of 8 candidates, totalling 24 fits\n",
      "n_closest_points will be ignored for UniversalKriging\n",
      "n_closest_points will be ignored for UniversalKriging\n",
      "n_closest_points will be ignored for UniversalKriging\n",
      "n_closest_points will be ignored for UniversalKriging\n",
      "n_closest_points will be ignored for UniversalKriging\n",
      "n_closest_points will be ignored for UniversalKriging\n",
      "n_closest_points will be ignored for UniversalKriging\n",
      "n_closest_points will be ignored for UniversalKriging\n",
      "n_closest_points will be ignored for UniversalKriging\n",
      "n_closest_points will be ignored for UniversalKriging\n",
      "n_closest_points will be ignored for UniversalKriging\n",
      "n_closest_points will be ignored for UniversalKriging\n",
      "n_closest_points will be ignored for UniversalKriging\n",
      "n_closest_points will be ignored for UniversalKriging\n",
      "n_closest_points will be ignored for UniversalKriging\n",
      "n_closest_points will be ignored for UniversalKriging\n",
      "n_closest_points will be ignored for UniversalKriging\n",
      "n_closest_points will be ignored for UniversalKriging\n",
      "n_closest_points will be ignored for UniversalKriging\n",
      "n_closest_points will be ignored for UniversalKriging\n",
      "n_closest_points will be ignored for UniversalKriging\n",
      "n_closest_points will be ignored for UniversalKriging\n",
      "n_closest_points will be ignored for UniversalKriging\n",
      "n_closest_points will be ignored for UniversalKriging\n",
      "best_score R² = -0.003\n",
      "best_params =  {'method': 'ordinary', 'variogram_model': 'linear'}\n",
      "\n",
      "CV results::\n",
      " - mean_test_score : [-0.00259665 -0.00259665 -0.15554812 -0.01929035 -0.0506049  -0.0506049\n",
      " -0.21985834 -0.03753169]\n",
      " - mean_train_score : [1. 1. 1. 1. 1. 1. 1. 1.]\n",
      " - param_method : ['ordinary' 'ordinary' 'ordinary' 'ordinary' 'universal' 'universal'\n",
      " 'universal' 'universal']\n",
      " - param_variogram_model : ['linear' 'power' 'gaussian' 'spherical' 'linear' 'power' 'gaussian'\n",
      " 'spherical']\n",
      "Fitting 3 folds for each of 8 candidates, totalling 24 fits\n"
     ]
    },
    {
     "name": "stderr",
     "output_type": "stream",
     "text": [
      "[Parallel(n_jobs=1)]: Done  24 out of  24 | elapsed:    0.8s finished\n",
      "/usr/local/lib/python3.7/site-packages/sklearn/model_selection/_search.py:841: DeprecationWarning: The default of the `iid` parameter will change from True to False in version 0.22 and will be removed in 0.24. This will change numeric results when test-set sizes are unequal.\n",
      "  DeprecationWarning)\n",
      "/usr/local/lib/python3.7/site-packages/sklearn/utils/deprecation.py:125: FutureWarning: You are accessing a training score ('mean_train_score'), which will not be available by default any more in 0.21. If you need training scores, please set return_train_score=True\n",
      "  warnings.warn(*warn_args, **warn_kwargs)\n",
      "/usr/local/lib/python3.7/site-packages/sklearn/model_selection/_split.py:2053: FutureWarning: You should specify a value for 'cv' instead of relying on the default value. The default value will change from 3 to 5 in version 0.22.\n",
      "  warnings.warn(CV_WARNING, FutureWarning)\n",
      "[Parallel(n_jobs=1)]: Using backend SequentialBackend with 1 concurrent workers.\n"
     ]
    },
    {
     "name": "stdout",
     "output_type": "stream",
     "text": [
      "n_closest_points will be ignored for UniversalKriging\n",
      "n_closest_points will be ignored for UniversalKriging\n",
      "n_closest_points will be ignored for UniversalKriging\n",
      "n_closest_points will be ignored for UniversalKriging\n",
      "n_closest_points will be ignored for UniversalKriging\n",
      "n_closest_points will be ignored for UniversalKriging\n",
      "n_closest_points will be ignored for UniversalKriging\n",
      "n_closest_points will be ignored for UniversalKriging\n",
      "n_closest_points will be ignored for UniversalKriging\n",
      "n_closest_points will be ignored for UniversalKriging\n",
      "n_closest_points will be ignored for UniversalKriging\n",
      "n_closest_points will be ignored for UniversalKriging\n",
      "n_closest_points will be ignored for UniversalKriging\n",
      "n_closest_points will be ignored for UniversalKriging\n",
      "n_closest_points will be ignored for UniversalKriging\n",
      "n_closest_points will be ignored for UniversalKriging\n",
      "n_closest_points will be ignored for UniversalKriging\n",
      "n_closest_points will be ignored for UniversalKriging\n",
      "n_closest_points will be ignored for UniversalKriging\n",
      "n_closest_points will be ignored for UniversalKriging\n",
      "n_closest_points will be ignored for UniversalKriging\n",
      "n_closest_points will be ignored for UniversalKriging\n",
      "n_closest_points will be ignored for UniversalKriging\n",
      "n_closest_points will be ignored for UniversalKriging\n",
      "best_score R² = 0.070\n",
      "best_params =  {'method': 'universal3d', 'variogram_model': 'spherical'}\n",
      "\n",
      "CV results::\n",
      " - mean_test_score : [ 0.03549443  0.06405638 -0.08564568  0.06607859  0.0184408   0.06171033\n",
      " -0.12700152  0.06955121]\n",
      " - mean_train_score : [1. 1. 1. 1. 1. 1. 1. 1.]\n",
      " - param_method : ['ordinary3d' 'ordinary3d' 'ordinary3d' 'ordinary3d' 'universal3d'\n",
      " 'universal3d' 'universal3d' 'universal3d']\n",
      " - param_variogram_model : ['linear' 'power' 'gaussian' 'spherical' 'linear' 'power' 'gaussian'\n",
      " 'spherical']\n"
     ]
    },
    {
     "name": "stderr",
     "output_type": "stream",
     "text": [
      "[Parallel(n_jobs=1)]: Done  24 out of  24 | elapsed:    1.1s finished\n",
      "/usr/local/lib/python3.7/site-packages/sklearn/model_selection/_search.py:841: DeprecationWarning: The default of the `iid` parameter will change from True to False in version 0.22 and will be removed in 0.24. This will change numeric results when test-set sizes are unequal.\n",
      "  DeprecationWarning)\n",
      "/usr/local/lib/python3.7/site-packages/sklearn/utils/deprecation.py:125: FutureWarning: You are accessing a training score ('mean_train_score'), which will not be available by default any more in 0.21. If you need training scores, please set return_train_score=True\n",
      "  warnings.warn(*warn_args, **warn_kwargs)\n"
     ]
    }
   ],
   "source": [
    "# 2D Kring param opt\n",
    "\n",
    "param_dict = {\"method\": [\"ordinary\", \"universal\"],\n",
    "              \"variogram_model\": [\"linear\", \"power\", \"gaussian\", \"spherical\"],\n",
    "              # \"nlags\": [4, 6, 8],\n",
    "              # \"weight\": [True, False]\n",
    "              }\n",
    "\n",
    "estimator = GridSearchCV(Krige(), param_dict, verbose=True)\n",
    "\n",
    "# dummy data\n",
    "X = np.random.randint(0, 400, size=(100, 2)).astype(float)\n",
    "y = 5 * np.random.rand(100)\n",
    "\n",
    "# run the gridsearch\n",
    "estimator.fit(X=X, y=y)\n",
    "\n",
    "\n",
    "if hasattr(estimator, 'best_score_'):\n",
    "    print('best_score R² = {:.3f}'.format(estimator.best_score_))\n",
    "    print('best_params = ', estimator.best_params_)\n",
    "\n",
    "print('\\nCV results::')\n",
    "if hasattr(estimator, 'cv_results_'):\n",
    "    for key in ['mean_test_score', 'mean_train_score',\n",
    "                'param_method', 'param_variogram_model']:\n",
    "        print(' - {} : {}'.format(key, estimator.cv_results_[key]))\n",
    "\n",
    "# 3D Kring param opt\n",
    "\n",
    "param_dict3d = {\"method\": [\"ordinary3d\", \"universal3d\"],\n",
    "              \"variogram_model\": [\"linear\", \"power\", \"gaussian\", \"spherical\"],\n",
    "              # \"nlags\": [4, 6, 8],\n",
    "              # \"weight\": [True, False]\n",
    "              }\n",
    "\n",
    "estimator = GridSearchCV(Krige(), param_dict3d, verbose=True)\n",
    "\n",
    "# dummy data\n",
    "X3 = np.random.randint(0, 400, size=(100, 3)).astype(float)\n",
    "y = 5 * np.random.rand(100)\n",
    "\n",
    "# run the gridsearch\n",
    "estimator.fit(X=X3, y=y)\n",
    "\n",
    "\n",
    "if hasattr(estimator, 'best_score_'):\n",
    "    print('best_score R² = {:.3f}'.format(estimator.best_score_))\n",
    "    print('best_params = ', estimator.best_params_)\n",
    "\n",
    "print('\\nCV results::')\n",
    "if hasattr(estimator, 'cv_results_'):\n",
    "    for key in ['mean_test_score', 'mean_train_score',\n",
    "                'param_method', 'param_variogram_model']:\n",
    "        print(' - {} : {}'.format(key, estimator.cv_results_[key]))"
   ]
  },
  {
   "cell_type": "code",
   "execution_count": null,
   "metadata": {},
   "outputs": [],
   "source": []
  }
 ],
 "metadata": {
  "kernelspec": {
   "display_name": "Python 3",
   "language": "python",
   "name": "python3"
  },
  "language_info": {
   "codemirror_mode": {
    "name": "ipython",
    "version": 3
   },
   "file_extension": ".py",
   "mimetype": "text/x-python",
   "name": "python",
   "nbconvert_exporter": "python",
   "pygments_lexer": "ipython3",
   "version": "3.7.0"
  }
 },
 "nbformat": 4,
 "nbformat_minor": 2
}
