{
 "cells": [
  {
   "cell_type": "code",
   "execution_count": 8,
   "metadata": {},
   "outputs": [],
   "source": [
    "# src: https://github.com/Cloud-RF/Signal-Server/blob/master/models/sui.cc"
   ]
  },
  {
   "cell_type": "code",
   "execution_count": 4,
   "metadata": {},
   "outputs": [],
   "source": [
    "import math"
   ]
  },
  {
   "cell_type": "code",
   "execution_count": 35,
   "metadata": {},
   "outputs": [],
   "source": [
    "def f_20log10f(x):\n",
    "    return(8.685889*math.log(x))"
   ]
  },
  {
   "cell_type": "code",
   "execution_count": 37,
   "metadata": {},
   "outputs": [],
   "source": [
    "def SUIpathloss(f, TxH, RxH, d, mode):\n",
    "    \"\"\" \n",
    "    f = Frequency (MHz) 1900 to 11000\n",
    "     TxH =  Transmitter height (m)\n",
    "     RxH = Receiver height (m)\n",
    "     d = distance (km)\n",
    "     mode A1 = URBAN / OBSTRUCTED\n",
    "     mode B2 = SUBURBAN / PARTIALLY OBSTRUCTED\n",
    "     mode C3 = RURAL / OPEN \n",
    "    \"\"\"\n",
    "    a = 4.6\n",
    "    b = 0.0065\n",
    "    c = 12.6\n",
    "    s = 8.2\n",
    "    XhCF = -10.8\n",
    "    \n",
    "    if mode == 2:\n",
    "        a = 4.0\n",
    "        b = 0.0065\n",
    "        c = 17.1\n",
    "        XhCF = -10.8\n",
    "    elif mode == 3:\n",
    "        a = 3.5\n",
    "        b = 0.005\n",
    "        c = 20\n",
    "        XhCF = -20\n",
    "        \n",
    "    d0 = 100.0\n",
    "    poop = (4*math.pi *d0)/(300.0/f)\n",
    "    A = f_20log10f(poop)\n",
    "    y = a -(b*TxH)+(c/TxH)\n",
    "    \n",
    "    Xf = 0\n",
    "    Xh = 0\n",
    "    \n",
    "    if f>2000:\n",
    "        Xf = 6.0 + math.log10(f/2.0)\n",
    "        Xh = XhCF * math.log10(RxH/2.0)\n",
    "    \n",
    "    return (A + (10*y) * (math.log10(d/d0) + Xf + Xh + s))"
   ]
  },
  {
   "cell_type": "code",
   "execution_count": 28,
   "metadata": {},
   "outputs": [],
   "source": [
    "def parser(fname):\n",
    "    f = open(fname, \"r\")\n",
    "    readings = []\n",
    "    f.readline()\n",
    "    f.readline()\n",
    "    for line in f:\n",
    "        temp = line.strip(\"\\n\").split()\n",
    "        temp2 = [temp[0], int(temp[1]), float(temp[2]), float(temp[3]), float(temp[4]), float(temp[5]), float(temp[6])]\n",
    "        readings.append(temp2)\n",
    "    f.close()\n",
    "    return readings"
   ]
  },
  {
   "cell_type": "code",
   "execution_count": 30,
   "metadata": {},
   "outputs": [],
   "source": [
    "# ID, Loop#, Timestamp, Freq, Lat, Long, RF reading\n",
    "readings = parser(\"data_testfile.txt\")"
   ]
  },
  {
   "cell_type": "code",
   "execution_count": 31,
   "metadata": {},
   "outputs": [
    {
     "data": {
      "text/plain": [
       "['CH-2', 0, 1540667160.26, 54309000.0, 32.70522095, -116.3759808, -103.370743]"
      ]
     },
     "execution_count": 31,
     "metadata": {},
     "output_type": "execute_result"
    }
   ],
   "source": [
    "readings[0]"
   ]
  },
  {
   "cell_type": "code",
   "execution_count": 38,
   "metadata": {},
   "outputs": [],
   "source": [
    "r = SUIpathloss(1540, 1000, 100, 150, 3)"
   ]
  },
  {
   "cell_type": "code",
   "execution_count": 39,
   "metadata": {},
   "outputs": [
    {
     "data": {
      "text/plain": [
       "-47.77396962832053"
      ]
     },
     "execution_count": 39,
     "metadata": {},
     "output_type": "execute_result"
    }
   ],
   "source": [
    "r"
   ]
  },
  {
   "cell_type": "code",
   "execution_count": null,
   "metadata": {},
   "outputs": [],
   "source": []
  },
  {
   "cell_type": "code",
   "execution_count": null,
   "metadata": {},
   "outputs": [],
   "source": []
  }
 ],
 "metadata": {
  "kernelspec": {
   "display_name": "Python 2",
   "language": "python",
   "name": "python2"
  },
  "language_info": {
   "codemirror_mode": {
    "name": "ipython",
    "version": 3
   },
   "file_extension": ".py",
   "mimetype": "text/x-python",
   "name": "python",
   "nbconvert_exporter": "python",
   "pygments_lexer": "ipython3",
   "version": "3.7.0"
  }
 },
 "nbformat": 4,
 "nbformat_minor": 2
}
